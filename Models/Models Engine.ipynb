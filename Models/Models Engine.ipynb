{
  "cells": [
    {
      "cell_type": "code",
      "execution_count": 11,
      "id": "5ce58b62",
      "metadata": {
        "id": "5ce58b62"
      },
      "outputs": [],
      "source": [
        "# Import the necessary libraries.\n",
        "import pandas as pd\n",
        "import numpy as np\n",
        "import matplotlib.pyplot as plt\n",
        "import seaborn as sns\n",
        "from sklearn.linear_model import LogisticRegression\n",
        "from sklearn.ensemble import RandomForestClassifier\n",
        "from sklearn.svm import SVC\n",
        "from sklearn.preprocessing import scale\n",
        "from sklearn.model_selection import train_test_split\n",
        "from sklearn.metrics import f1_score\n",
        "from sklearn.neighbors import KNeighborsClassifier\n",
        "from sklearn.tree import DecisionTreeClassifier\n",
        "\n",
        "\n",
        "%matplotlib inline"
      ]
    },
    {
      "cell_type": "markdown",
      "id": "5ff96886",
      "metadata": {
        "id": "5ff96886"
      },
      "source": [
        "# Importing Data"
      ]
    },
    {
      "cell_type": "code",
      "execution_count": 12,
      "id": "fff89368",
      "metadata": {
        "id": "fff89368"
      },
      "outputs": [],
      "source": [
        "data = pd.read_csv('Total dataset file.csv')"
      ]
    },
    {
      "cell_type": "code",
      "source": [
        "data.head()"
      ],
      "metadata": {
        "id": "z2fmDWbnRMuG",
        "colab": {
          "base_uri": "https://localhost:8080/",
          "height": 288
        },
        "outputId": "d3365ec3-952f-4586-9268-2fef3fc5c78a"
      },
      "id": "z2fmDWbnRMuG",
      "execution_count": 13,
      "outputs": [
        {
          "output_type": "execute_result",
          "data": {
            "text/html": [
              "\n",
              "  <div id=\"df-86fc1a27-f00f-4177-b70a-71ed1e7fc671\">\n",
              "    <div class=\"colab-df-container\">\n",
              "      <div>\n",
              "<style scoped>\n",
              "    .dataframe tbody tr th:only-of-type {\n",
              "        vertical-align: middle;\n",
              "    }\n",
              "\n",
              "    .dataframe tbody tr th {\n",
              "        vertical-align: top;\n",
              "    }\n",
              "\n",
              "    .dataframe thead th {\n",
              "        text-align: right;\n",
              "    }\n",
              "</style>\n",
              "<table border=\"1\" class=\"dataframe\">\n",
              "  <thead>\n",
              "    <tr style=\"text-align: right;\">\n",
              "      <th></th>\n",
              "      <th>Unnamed: 0</th>\n",
              "      <th>Date</th>\n",
              "      <th>HomeTeam</th>\n",
              "      <th>AwayTeam</th>\n",
              "      <th>FTHG</th>\n",
              "      <th>FTAG</th>\n",
              "      <th>FTR</th>\n",
              "      <th>HTGS</th>\n",
              "      <th>ATGS</th>\n",
              "      <th>HTGC</th>\n",
              "      <th>ATGC</th>\n",
              "      <th>HTP</th>\n",
              "      <th>ATP</th>\n",
              "      <th>HM1</th>\n",
              "      <th>HM2</th>\n",
              "      <th>HM3</th>\n",
              "      <th>HM4</th>\n",
              "      <th>HM5</th>\n",
              "      <th>AM1</th>\n",
              "      <th>AM2</th>\n",
              "      <th>AM3</th>\n",
              "      <th>AM4</th>\n",
              "      <th>AM5</th>\n",
              "      <th>MW</th>\n",
              "      <th>HTFormPtsStr</th>\n",
              "      <th>ATFormPtsStr</th>\n",
              "      <th>HTFormPts</th>\n",
              "      <th>ATFormPts</th>\n",
              "      <th>HTWinStreak3</th>\n",
              "      <th>HTWinStreak5</th>\n",
              "      <th>HTLossStreak3</th>\n",
              "      <th>HTLossStreak5</th>\n",
              "      <th>ATWinStreak3</th>\n",
              "      <th>ATWinStreak5</th>\n",
              "      <th>ATLossStreak3</th>\n",
              "      <th>ATLossStreak5</th>\n",
              "      <th>HTGD</th>\n",
              "      <th>ATGD</th>\n",
              "      <th>DiffPts</th>\n",
              "      <th>DiffFormPts</th>\n",
              "    </tr>\n",
              "  </thead>\n",
              "  <tbody>\n",
              "    <tr>\n",
              "      <th>0</th>\n",
              "      <td>0</td>\n",
              "      <td>19/08/00</td>\n",
              "      <td>Charlton</td>\n",
              "      <td>Man City</td>\n",
              "      <td>4</td>\n",
              "      <td>0</td>\n",
              "      <td>H</td>\n",
              "      <td>0</td>\n",
              "      <td>0</td>\n",
              "      <td>0</td>\n",
              "      <td>0</td>\n",
              "      <td>0.0</td>\n",
              "      <td>0.0</td>\n",
              "      <td>M</td>\n",
              "      <td>M</td>\n",
              "      <td>M</td>\n",
              "      <td>M</td>\n",
              "      <td>M</td>\n",
              "      <td>M</td>\n",
              "      <td>M</td>\n",
              "      <td>M</td>\n",
              "      <td>M</td>\n",
              "      <td>M</td>\n",
              "      <td>1.0</td>\n",
              "      <td>MMMMM</td>\n",
              "      <td>MMMMM</td>\n",
              "      <td>0</td>\n",
              "      <td>0</td>\n",
              "      <td>0</td>\n",
              "      <td>0</td>\n",
              "      <td>0</td>\n",
              "      <td>0</td>\n",
              "      <td>0</td>\n",
              "      <td>0</td>\n",
              "      <td>0</td>\n",
              "      <td>0</td>\n",
              "      <td>0.0</td>\n",
              "      <td>0.0</td>\n",
              "      <td>0.0</td>\n",
              "      <td>0.0</td>\n",
              "    </tr>\n",
              "    <tr>\n",
              "      <th>1</th>\n",
              "      <td>1</td>\n",
              "      <td>19/08/00</td>\n",
              "      <td>Chelsea</td>\n",
              "      <td>West Ham</td>\n",
              "      <td>4</td>\n",
              "      <td>2</td>\n",
              "      <td>H</td>\n",
              "      <td>0</td>\n",
              "      <td>0</td>\n",
              "      <td>0</td>\n",
              "      <td>0</td>\n",
              "      <td>0.0</td>\n",
              "      <td>0.0</td>\n",
              "      <td>M</td>\n",
              "      <td>M</td>\n",
              "      <td>M</td>\n",
              "      <td>M</td>\n",
              "      <td>M</td>\n",
              "      <td>M</td>\n",
              "      <td>M</td>\n",
              "      <td>M</td>\n",
              "      <td>M</td>\n",
              "      <td>M</td>\n",
              "      <td>1.0</td>\n",
              "      <td>MMMMM</td>\n",
              "      <td>MMMMM</td>\n",
              "      <td>0</td>\n",
              "      <td>0</td>\n",
              "      <td>0</td>\n",
              "      <td>0</td>\n",
              "      <td>0</td>\n",
              "      <td>0</td>\n",
              "      <td>0</td>\n",
              "      <td>0</td>\n",
              "      <td>0</td>\n",
              "      <td>0</td>\n",
              "      <td>0.0</td>\n",
              "      <td>0.0</td>\n",
              "      <td>0.0</td>\n",
              "      <td>0.0</td>\n",
              "    </tr>\n",
              "    <tr>\n",
              "      <th>2</th>\n",
              "      <td>2</td>\n",
              "      <td>19/08/00</td>\n",
              "      <td>Coventry</td>\n",
              "      <td>Middlesbrough</td>\n",
              "      <td>1</td>\n",
              "      <td>3</td>\n",
              "      <td>NH</td>\n",
              "      <td>0</td>\n",
              "      <td>0</td>\n",
              "      <td>0</td>\n",
              "      <td>0</td>\n",
              "      <td>0.0</td>\n",
              "      <td>0.0</td>\n",
              "      <td>M</td>\n",
              "      <td>M</td>\n",
              "      <td>M</td>\n",
              "      <td>M</td>\n",
              "      <td>M</td>\n",
              "      <td>M</td>\n",
              "      <td>M</td>\n",
              "      <td>M</td>\n",
              "      <td>M</td>\n",
              "      <td>M</td>\n",
              "      <td>1.0</td>\n",
              "      <td>MMMMM</td>\n",
              "      <td>MMMMM</td>\n",
              "      <td>0</td>\n",
              "      <td>0</td>\n",
              "      <td>0</td>\n",
              "      <td>0</td>\n",
              "      <td>0</td>\n",
              "      <td>0</td>\n",
              "      <td>0</td>\n",
              "      <td>0</td>\n",
              "      <td>0</td>\n",
              "      <td>0</td>\n",
              "      <td>0.0</td>\n",
              "      <td>0.0</td>\n",
              "      <td>0.0</td>\n",
              "      <td>0.0</td>\n",
              "    </tr>\n",
              "    <tr>\n",
              "      <th>3</th>\n",
              "      <td>3</td>\n",
              "      <td>19/08/00</td>\n",
              "      <td>Derby</td>\n",
              "      <td>Southampton</td>\n",
              "      <td>2</td>\n",
              "      <td>2</td>\n",
              "      <td>NH</td>\n",
              "      <td>0</td>\n",
              "      <td>0</td>\n",
              "      <td>0</td>\n",
              "      <td>0</td>\n",
              "      <td>0.0</td>\n",
              "      <td>0.0</td>\n",
              "      <td>M</td>\n",
              "      <td>M</td>\n",
              "      <td>M</td>\n",
              "      <td>M</td>\n",
              "      <td>M</td>\n",
              "      <td>M</td>\n",
              "      <td>M</td>\n",
              "      <td>M</td>\n",
              "      <td>M</td>\n",
              "      <td>M</td>\n",
              "      <td>1.0</td>\n",
              "      <td>MMMMM</td>\n",
              "      <td>MMMMM</td>\n",
              "      <td>0</td>\n",
              "      <td>0</td>\n",
              "      <td>0</td>\n",
              "      <td>0</td>\n",
              "      <td>0</td>\n",
              "      <td>0</td>\n",
              "      <td>0</td>\n",
              "      <td>0</td>\n",
              "      <td>0</td>\n",
              "      <td>0</td>\n",
              "      <td>0.0</td>\n",
              "      <td>0.0</td>\n",
              "      <td>0.0</td>\n",
              "      <td>0.0</td>\n",
              "    </tr>\n",
              "    <tr>\n",
              "      <th>4</th>\n",
              "      <td>4</td>\n",
              "      <td>19/08/00</td>\n",
              "      <td>Leeds</td>\n",
              "      <td>Everton</td>\n",
              "      <td>2</td>\n",
              "      <td>0</td>\n",
              "      <td>H</td>\n",
              "      <td>0</td>\n",
              "      <td>0</td>\n",
              "      <td>0</td>\n",
              "      <td>0</td>\n",
              "      <td>0.0</td>\n",
              "      <td>0.0</td>\n",
              "      <td>M</td>\n",
              "      <td>M</td>\n",
              "      <td>M</td>\n",
              "      <td>M</td>\n",
              "      <td>M</td>\n",
              "      <td>M</td>\n",
              "      <td>M</td>\n",
              "      <td>M</td>\n",
              "      <td>M</td>\n",
              "      <td>M</td>\n",
              "      <td>1.0</td>\n",
              "      <td>MMMMM</td>\n",
              "      <td>MMMMM</td>\n",
              "      <td>0</td>\n",
              "      <td>0</td>\n",
              "      <td>0</td>\n",
              "      <td>0</td>\n",
              "      <td>0</td>\n",
              "      <td>0</td>\n",
              "      <td>0</td>\n",
              "      <td>0</td>\n",
              "      <td>0</td>\n",
              "      <td>0</td>\n",
              "      <td>0.0</td>\n",
              "      <td>0.0</td>\n",
              "      <td>0.0</td>\n",
              "      <td>0.0</td>\n",
              "    </tr>\n",
              "  </tbody>\n",
              "</table>\n",
              "</div>\n",
              "      <button class=\"colab-df-convert\" onclick=\"convertToInteractive('df-86fc1a27-f00f-4177-b70a-71ed1e7fc671')\"\n",
              "              title=\"Convert this dataframe to an interactive table.\"\n",
              "              style=\"display:none;\">\n",
              "        \n",
              "  <svg xmlns=\"http://www.w3.org/2000/svg\" height=\"24px\"viewBox=\"0 0 24 24\"\n",
              "       width=\"24px\">\n",
              "    <path d=\"M0 0h24v24H0V0z\" fill=\"none\"/>\n",
              "    <path d=\"M18.56 5.44l.94 2.06.94-2.06 2.06-.94-2.06-.94-.94-2.06-.94 2.06-2.06.94zm-11 1L8.5 8.5l.94-2.06 2.06-.94-2.06-.94L8.5 2.5l-.94 2.06-2.06.94zm10 10l.94 2.06.94-2.06 2.06-.94-2.06-.94-.94-2.06-.94 2.06-2.06.94z\"/><path d=\"M17.41 7.96l-1.37-1.37c-.4-.4-.92-.59-1.43-.59-.52 0-1.04.2-1.43.59L10.3 9.45l-7.72 7.72c-.78.78-.78 2.05 0 2.83L4 21.41c.39.39.9.59 1.41.59.51 0 1.02-.2 1.41-.59l7.78-7.78 2.81-2.81c.8-.78.8-2.07 0-2.86zM5.41 20L4 18.59l7.72-7.72 1.47 1.35L5.41 20z\"/>\n",
              "  </svg>\n",
              "      </button>\n",
              "      \n",
              "  <style>\n",
              "    .colab-df-container {\n",
              "      display:flex;\n",
              "      flex-wrap:wrap;\n",
              "      gap: 12px;\n",
              "    }\n",
              "\n",
              "    .colab-df-convert {\n",
              "      background-color: #E8F0FE;\n",
              "      border: none;\n",
              "      border-radius: 50%;\n",
              "      cursor: pointer;\n",
              "      display: none;\n",
              "      fill: #1967D2;\n",
              "      height: 32px;\n",
              "      padding: 0 0 0 0;\n",
              "      width: 32px;\n",
              "    }\n",
              "\n",
              "    .colab-df-convert:hover {\n",
              "      background-color: #E2EBFA;\n",
              "      box-shadow: 0px 1px 2px rgba(60, 64, 67, 0.3), 0px 1px 3px 1px rgba(60, 64, 67, 0.15);\n",
              "      fill: #174EA6;\n",
              "    }\n",
              "\n",
              "    [theme=dark] .colab-df-convert {\n",
              "      background-color: #3B4455;\n",
              "      fill: #D2E3FC;\n",
              "    }\n",
              "\n",
              "    [theme=dark] .colab-df-convert:hover {\n",
              "      background-color: #434B5C;\n",
              "      box-shadow: 0px 1px 3px 1px rgba(0, 0, 0, 0.15);\n",
              "      filter: drop-shadow(0px 1px 2px rgba(0, 0, 0, 0.3));\n",
              "      fill: #FFFFFF;\n",
              "    }\n",
              "  </style>\n",
              "\n",
              "      <script>\n",
              "        const buttonEl =\n",
              "          document.querySelector('#df-86fc1a27-f00f-4177-b70a-71ed1e7fc671 button.colab-df-convert');\n",
              "        buttonEl.style.display =\n",
              "          google.colab.kernel.accessAllowed ? 'block' : 'none';\n",
              "\n",
              "        async function convertToInteractive(key) {\n",
              "          const element = document.querySelector('#df-86fc1a27-f00f-4177-b70a-71ed1e7fc671');\n",
              "          const dataTable =\n",
              "            await google.colab.kernel.invokeFunction('convertToInteractive',\n",
              "                                                     [key], {});\n",
              "          if (!dataTable) return;\n",
              "\n",
              "          const docLinkHtml = 'Like what you see? Visit the ' +\n",
              "            '<a target=\"_blank\" href=https://colab.research.google.com/notebooks/data_table.ipynb>data table notebook</a>'\n",
              "            + ' to learn more about interactive tables.';\n",
              "          element.innerHTML = '';\n",
              "          dataTable['output_type'] = 'display_data';\n",
              "          await google.colab.output.renderOutput(dataTable, element);\n",
              "          const docLink = document.createElement('div');\n",
              "          docLink.innerHTML = docLinkHtml;\n",
              "          element.appendChild(docLink);\n",
              "        }\n",
              "      </script>\n",
              "    </div>\n",
              "  </div>\n",
              "  "
            ],
            "text/plain": [
              "   Unnamed: 0      Date  HomeTeam  ... ATGD  DiffPts  DiffFormPts\n",
              "0           0  19/08/00  Charlton  ...  0.0      0.0          0.0\n",
              "1           1  19/08/00   Chelsea  ...  0.0      0.0          0.0\n",
              "2           2  19/08/00  Coventry  ...  0.0      0.0          0.0\n",
              "3           3  19/08/00     Derby  ...  0.0      0.0          0.0\n",
              "4           4  19/08/00     Leeds  ...  0.0      0.0          0.0\n",
              "\n",
              "[5 rows x 40 columns]"
            ]
          },
          "metadata": {},
          "execution_count": 13
        }
      ]
    },
    {
      "cell_type": "code",
      "execution_count": 14,
      "id": "3e92bf8c",
      "metadata": {
        "id": "3e92bf8c",
        "colab": {
          "base_uri": "https://localhost:8080/"
        },
        "outputId": "58dbc540-ac41-4e37-e3fe-11c6f52efd3e"
      },
      "outputs": [
        {
          "output_type": "execute_result",
          "data": {
            "text/plain": [
              "Index(['Unnamed: 0', 'Date', 'HomeTeam', 'AwayTeam', 'FTHG', 'FTAG', 'FTR',\n",
              "       'HTGS', 'ATGS', 'HTGC', 'ATGC', 'HTP', 'ATP', 'HM1', 'HM2', 'HM3',\n",
              "       'HM4', 'HM5', 'AM1', 'AM2', 'AM3', 'AM4', 'AM5', 'MW', 'HTFormPtsStr',\n",
              "       'ATFormPtsStr', 'HTFormPts', 'ATFormPts', 'HTWinStreak3',\n",
              "       'HTWinStreak5', 'HTLossStreak3', 'HTLossStreak5', 'ATWinStreak3',\n",
              "       'ATWinStreak5', 'ATLossStreak3', 'ATLossStreak5', 'HTGD', 'ATGD',\n",
              "       'DiffPts', 'DiffFormPts'],\n",
              "      dtype='object')"
            ]
          },
          "metadata": {},
          "execution_count": 14
        }
      ],
      "source": [
        "data.columns"
      ]
    },
    {
      "cell_type": "code",
      "execution_count": 15,
      "id": "728ae267",
      "metadata": {
        "id": "728ae267"
      },
      "outputs": [],
      "source": [
        "data.drop(['Unnamed: 0','HomeTeam', 'AwayTeam', 'Date', 'MW', 'HTFormPtsStr', 'ATFormPtsStr', 'FTHG', 'FTAG',\n",
        "           'HTGS', 'ATGS', 'HTGC', 'ATGC','DiffPts','HTFormPts','ATFormPts',\n",
        "           'HM4','HM5','AM4','AM5','HTLossStreak5','ATLossStreak5','HTWinStreak5','ATWinStreak5',\n",
        "           'HTWinStreak3','HTLossStreak3','ATWinStreak3','ATLossStreak3'],1, inplace=True)"
      ]
    },
    {
      "cell_type": "code",
      "execution_count": 16,
      "id": "1d20f2c0",
      "metadata": {
        "id": "1d20f2c0",
        "colab": {
          "base_uri": "https://localhost:8080/",
          "height": 206
        },
        "outputId": "6f41dfed-605d-473c-a414-bcbeec061438"
      },
      "outputs": [
        {
          "output_type": "execute_result",
          "data": {
            "text/html": [
              "\n",
              "  <div id=\"df-a506981e-b3f2-47a4-bf7d-bc1b70213a73\">\n",
              "    <div class=\"colab-df-container\">\n",
              "      <div>\n",
              "<style scoped>\n",
              "    .dataframe tbody tr th:only-of-type {\n",
              "        vertical-align: middle;\n",
              "    }\n",
              "\n",
              "    .dataframe tbody tr th {\n",
              "        vertical-align: top;\n",
              "    }\n",
              "\n",
              "    .dataframe thead th {\n",
              "        text-align: right;\n",
              "    }\n",
              "</style>\n",
              "<table border=\"1\" class=\"dataframe\">\n",
              "  <thead>\n",
              "    <tr style=\"text-align: right;\">\n",
              "      <th></th>\n",
              "      <th>FTR</th>\n",
              "      <th>HTP</th>\n",
              "      <th>ATP</th>\n",
              "      <th>HM1</th>\n",
              "      <th>HM2</th>\n",
              "      <th>HM3</th>\n",
              "      <th>AM1</th>\n",
              "      <th>AM2</th>\n",
              "      <th>AM3</th>\n",
              "      <th>HTGD</th>\n",
              "      <th>ATGD</th>\n",
              "      <th>DiffFormPts</th>\n",
              "    </tr>\n",
              "  </thead>\n",
              "  <tbody>\n",
              "    <tr>\n",
              "      <th>6835</th>\n",
              "      <td>H</td>\n",
              "      <td>1.078947</td>\n",
              "      <td>1.842105</td>\n",
              "      <td>L</td>\n",
              "      <td>L</td>\n",
              "      <td>L</td>\n",
              "      <td>D</td>\n",
              "      <td>W</td>\n",
              "      <td>W</td>\n",
              "      <td>-0.289474</td>\n",
              "      <td>0.710526</td>\n",
              "      <td>-0.263158</td>\n",
              "    </tr>\n",
              "    <tr>\n",
              "      <th>6836</th>\n",
              "      <td>NH</td>\n",
              "      <td>0.947368</td>\n",
              "      <td>2.552632</td>\n",
              "      <td>W</td>\n",
              "      <td>D</td>\n",
              "      <td>W</td>\n",
              "      <td>W</td>\n",
              "      <td>D</td>\n",
              "      <td>W</td>\n",
              "      <td>-0.473684</td>\n",
              "      <td>2.052632</td>\n",
              "      <td>-0.131579</td>\n",
              "    </tr>\n",
              "    <tr>\n",
              "      <th>6837</th>\n",
              "      <td>NH</td>\n",
              "      <td>0.868421</td>\n",
              "      <td>0.789474</td>\n",
              "      <td>L</td>\n",
              "      <td>L</td>\n",
              "      <td>L</td>\n",
              "      <td>L</td>\n",
              "      <td>D</td>\n",
              "      <td>D</td>\n",
              "      <td>-0.710526</td>\n",
              "      <td>-0.894737</td>\n",
              "      <td>-0.052632</td>\n",
              "    </tr>\n",
              "    <tr>\n",
              "      <th>6838</th>\n",
              "      <td>H</td>\n",
              "      <td>1.947368</td>\n",
              "      <td>1.236842</td>\n",
              "      <td>W</td>\n",
              "      <td>L</td>\n",
              "      <td>W</td>\n",
              "      <td>W</td>\n",
              "      <td>L</td>\n",
              "      <td>L</td>\n",
              "      <td>0.973684</td>\n",
              "      <td>-0.078947</td>\n",
              "      <td>0.078947</td>\n",
              "    </tr>\n",
              "    <tr>\n",
              "      <th>6839</th>\n",
              "      <td>H</td>\n",
              "      <td>1.026316</td>\n",
              "      <td>1.289474</td>\n",
              "      <td>D</td>\n",
              "      <td>W</td>\n",
              "      <td>L</td>\n",
              "      <td>D</td>\n",
              "      <td>W</td>\n",
              "      <td>W</td>\n",
              "      <td>-0.578947</td>\n",
              "      <td>-0.315789</td>\n",
              "      <td>-0.105263</td>\n",
              "    </tr>\n",
              "  </tbody>\n",
              "</table>\n",
              "</div>\n",
              "      <button class=\"colab-df-convert\" onclick=\"convertToInteractive('df-a506981e-b3f2-47a4-bf7d-bc1b70213a73')\"\n",
              "              title=\"Convert this dataframe to an interactive table.\"\n",
              "              style=\"display:none;\">\n",
              "        \n",
              "  <svg xmlns=\"http://www.w3.org/2000/svg\" height=\"24px\"viewBox=\"0 0 24 24\"\n",
              "       width=\"24px\">\n",
              "    <path d=\"M0 0h24v24H0V0z\" fill=\"none\"/>\n",
              "    <path d=\"M18.56 5.44l.94 2.06.94-2.06 2.06-.94-2.06-.94-.94-2.06-.94 2.06-2.06.94zm-11 1L8.5 8.5l.94-2.06 2.06-.94-2.06-.94L8.5 2.5l-.94 2.06-2.06.94zm10 10l.94 2.06.94-2.06 2.06-.94-2.06-.94-.94-2.06-.94 2.06-2.06.94z\"/><path d=\"M17.41 7.96l-1.37-1.37c-.4-.4-.92-.59-1.43-.59-.52 0-1.04.2-1.43.59L10.3 9.45l-7.72 7.72c-.78.78-.78 2.05 0 2.83L4 21.41c.39.39.9.59 1.41.59.51 0 1.02-.2 1.41-.59l7.78-7.78 2.81-2.81c.8-.78.8-2.07 0-2.86zM5.41 20L4 18.59l7.72-7.72 1.47 1.35L5.41 20z\"/>\n",
              "  </svg>\n",
              "      </button>\n",
              "      \n",
              "  <style>\n",
              "    .colab-df-container {\n",
              "      display:flex;\n",
              "      flex-wrap:wrap;\n",
              "      gap: 12px;\n",
              "    }\n",
              "\n",
              "    .colab-df-convert {\n",
              "      background-color: #E8F0FE;\n",
              "      border: none;\n",
              "      border-radius: 50%;\n",
              "      cursor: pointer;\n",
              "      display: none;\n",
              "      fill: #1967D2;\n",
              "      height: 32px;\n",
              "      padding: 0 0 0 0;\n",
              "      width: 32px;\n",
              "    }\n",
              "\n",
              "    .colab-df-convert:hover {\n",
              "      background-color: #E2EBFA;\n",
              "      box-shadow: 0px 1px 2px rgba(60, 64, 67, 0.3), 0px 1px 3px 1px rgba(60, 64, 67, 0.15);\n",
              "      fill: #174EA6;\n",
              "    }\n",
              "\n",
              "    [theme=dark] .colab-df-convert {\n",
              "      background-color: #3B4455;\n",
              "      fill: #D2E3FC;\n",
              "    }\n",
              "\n",
              "    [theme=dark] .colab-df-convert:hover {\n",
              "      background-color: #434B5C;\n",
              "      box-shadow: 0px 1px 3px 1px rgba(0, 0, 0, 0.15);\n",
              "      filter: drop-shadow(0px 1px 2px rgba(0, 0, 0, 0.3));\n",
              "      fill: #FFFFFF;\n",
              "    }\n",
              "  </style>\n",
              "\n",
              "      <script>\n",
              "        const buttonEl =\n",
              "          document.querySelector('#df-a506981e-b3f2-47a4-bf7d-bc1b70213a73 button.colab-df-convert');\n",
              "        buttonEl.style.display =\n",
              "          google.colab.kernel.accessAllowed ? 'block' : 'none';\n",
              "\n",
              "        async function convertToInteractive(key) {\n",
              "          const element = document.querySelector('#df-a506981e-b3f2-47a4-bf7d-bc1b70213a73');\n",
              "          const dataTable =\n",
              "            await google.colab.kernel.invokeFunction('convertToInteractive',\n",
              "                                                     [key], {});\n",
              "          if (!dataTable) return;\n",
              "\n",
              "          const docLinkHtml = 'Like what you see? Visit the ' +\n",
              "            '<a target=\"_blank\" href=https://colab.research.google.com/notebooks/data_table.ipynb>data table notebook</a>'\n",
              "            + ' to learn more about interactive tables.';\n",
              "          element.innerHTML = '';\n",
              "          dataTable['output_type'] = 'display_data';\n",
              "          await google.colab.output.renderOutput(dataTable, element);\n",
              "          const docLink = document.createElement('div');\n",
              "          docLink.innerHTML = docLinkHtml;\n",
              "          element.appendChild(docLink);\n",
              "        }\n",
              "      </script>\n",
              "    </div>\n",
              "  </div>\n",
              "  "
            ],
            "text/plain": [
              "     FTR       HTP       ATP HM1 HM2  ... AM2 AM3      HTGD      ATGD  DiffFormPts\n",
              "6835   H  1.078947  1.842105   L   L  ...   W   W -0.289474  0.710526    -0.263158\n",
              "6836  NH  0.947368  2.552632   W   D  ...   D   W -0.473684  2.052632    -0.131579\n",
              "6837  NH  0.868421  0.789474   L   L  ...   D   D -0.710526 -0.894737    -0.052632\n",
              "6838   H  1.947368  1.236842   W   L  ...   L   L  0.973684 -0.078947     0.078947\n",
              "6839   H  1.026316  1.289474   D   W  ...   W   W -0.578947 -0.315789    -0.105263\n",
              "\n",
              "[5 rows x 12 columns]"
            ]
          },
          "metadata": {},
          "execution_count": 16
        }
      ],
      "source": [
        "data.tail()"
      ]
    },
    {
      "cell_type": "markdown",
      "id": "e38fd656",
      "metadata": {
        "id": "e38fd656"
      },
      "source": [
        "> FTR -> Full Time Result\n",
        ">\n",
        "> HTP -> Home Team Point\n",
        ">\n",
        "> ATP -> Away Team Points\n",
        ">\n",
        "> HMn -> Home Team Match no. Result\n",
        ">\n",
        "> AMn -> Away Team Match no. Result\n",
        ">\n",
        "> HTGD -> Difference between scoered and recievved goals for home team\n",
        ">\n",
        "> ATGD -> ifference between scoered and recievved goals for away team\n",
        ">\n",
        "> DiffFromPts -> Difference between HTP and ATP"
      ]
    },
    {
      "cell_type": "code",
      "execution_count": 17,
      "id": "7dd0b1b7",
      "metadata": {
        "id": "7dd0b1b7",
        "colab": {
          "base_uri": "https://localhost:8080/"
        },
        "outputId": "66effb2b-50cc-4b77-b04d-0bf8f76cc659"
      },
      "outputs": [
        {
          "output_type": "stream",
          "name": "stdout",
          "text": [
            "Total number of matches: 6840\n",
            "Number of features: 12\n",
            "Number of matches won by home team: 3176\n",
            "Win rate of home team: 46.43%\n"
          ]
        }
      ],
      "source": [
        "matches = data.shape[0]\n",
        "feats = data.shape[1]\n",
        "\n",
        "hWins = len(data[data.FTR == 'H'])\n",
        "\n",
        "win_rate = (float(hWins) / (matches)) * 100\n",
        "\n",
        "# Print the results\n",
        "print (\"Total number of matches: {}\".format(matches))\n",
        "print (\"Number of features: {}\".format(feats))\n",
        "print (\"Number of matches won by home team: {}\".format(hWins))\n",
        "print (\"Win rate of home team: {:.2f}%\".format(win_rate))"
      ]
    },
    {
      "cell_type": "code",
      "execution_count": 18,
      "id": "467d3f15",
      "metadata": {
        "id": "467d3f15",
        "colab": {
          "base_uri": "https://localhost:8080/",
          "height": 458
        },
        "outputId": "7e881a2f-440e-4bf1-ace9-efe527dce4de"
      },
      "outputs": [
        {
          "output_type": "display_data",
          "data": {
            "image/png": "[encoded data removed]",
            "text/plain": [
              "<Figure size 1080x504 with 2 Axes>"
            ]
          },
          "metadata": {
            "needs_background": "light"
          }
        }
      ],
      "source": [
        "corr_matrix = data.corr();\n",
        "\n",
        "mask = np.zeros_like(corr_matrix);\n",
        "mask[np.triu_indices_from(mask)] = True\n",
        "f, ax = plt.subplots(figsize=(15, 7))\n",
        "ax = sns.heatmap(corr_matrix, mask=mask,annot=True, fmt=\".2f\", cmap=\"YlGnBu\", linewidths=.3);\n",
        "\n",
        "plt.title('correlation matrix between features');\n",
        "plt.xlabel('Features');\n",
        "plt.ylabel('Features');\n"
      ]
    },
    {
      "cell_type": "code",
      "execution_count": 15,
      "id": "f6316f7d",
      "metadata": {
        "scrolled": false,
        "id": "f6316f7d",
        "colab": {
          "base_uri": "https://localhost:8080/",
          "height": 926
        },
        "outputId": "e11466df-050a-40d8-cd91-6975a702f98d"
      },
      "outputs": [
        {
          "output_type": "display_data",
          "data": {
            "text/plain": [
              "<Figure size 1152x648 with 0 Axes>"
            ]
          },
          "metadata": {}
        },
        {
          "output_type": "display_data",
          "data": {
            "image/png": "[encoded data removed]",
            "text/plain": [
              "<Figure size 900x900 with 30 Axes>"
            ]
          },
          "metadata": {
            "needs_background": "light"
          }
        }
      ],
      "source": [
        "plt.figure(figsize=(16,9));\n",
        "\n",
        "sns.pairplot(data,plot_kws=dict(marker=\"+\", linewidth=1));\n",
        "plt.tight_layout();\n",
        "plt.show();"
      ]
    },
    {
      "cell_type": "markdown",
      "id": "31ed83a1",
      "metadata": {
        "id": "31ed83a1"
      },
      "source": [
        "# Model"
      ]
    },
    {
      "cell_type": "code",
      "execution_count": 19,
      "id": "b9a7ac4d",
      "metadata": {
        "id": "b9a7ac4d"
      },
      "outputs": [],
      "source": [
        "# Separate into feature set and target variable\n",
        "X_all = data.drop(['FTR'],1)\n",
        "y_all = data['FTR']\n",
        "\n",
        "# normalising the data.\n",
        "cols = [['HTGD','ATGD','HTP','ATP']]\n",
        "for col in cols:\n",
        "    X_all[col] = scale(X_all[col])"
      ]
    },
    {
      "cell_type": "markdown",
      "id": "62569691",
      "metadata": {
        "id": "62569691"
      },
      "source": [
        "> ## Change Data "
      ]
    },
    {
      "cell_type": "code",
      "source": [
        ""
      ],
      "metadata": {
        "id": "4jXdcethE1Db"
      },
      "id": "4jXdcethE1Db",
      "execution_count": 19,
      "outputs": []
    },
    {
      "cell_type": "code",
      "execution_count": 20,
      "id": "a4dda707",
      "metadata": {
        "id": "a4dda707"
      },
      "outputs": [],
      "source": [
        "X_all.HM1 = X_all.HM1.astype('str')\n",
        "X_all.HM2 = X_all.HM2.astype('str')\n",
        "X_all.HM3 = X_all.HM3.astype('str')\n",
        "X_all.AM1 = X_all.AM1.astype('str')\n",
        "X_all.AM2 = X_all.AM2.astype('str')\n",
        "X_all.AM3 = X_all.AM3.astype('str')\n",
        "\n",
        "def preprocess_features(X):\n",
        "    ''' Preprocesses the football data and converts catagorical variables into dummy variables. '''\n",
        "    \n",
        "    # Initialize new output DataFrame\n",
        "    output = pd.DataFrame(index = X.index)\n",
        "\n",
        "    # Investigate each feature column for the data\n",
        "    for col, col_data in X.iteritems():\n",
        "\n",
        "        # If data type is categorical, convert to dummy variables\n",
        "        if col_data.dtype == object:\n",
        "            col_data = pd.get_dummies(col_data, prefix = col)\n",
        "                    \n",
        "        # Collect the revised columns\n",
        "        output = output.join(col_data)\n",
        "    \n",
        "    return output\n",
        "\n",
        "X_all = preprocess_features(X_all)"
      ]
    },
    {
      "cell_type": "code",
      "execution_count": 21,
      "id": "d18064e0",
      "metadata": {
        "id": "d18064e0"
      },
      "outputs": [],
      "source": [
        "X_train, X_test, y_train, y_test = train_test_split(X_all, y_all, \n",
        "                                                    test_size = 50,\n",
        "                                                    random_state = 2,\n",
        "                                                    stratify = y_all)"
      ]
    },
    {
      "cell_type": "code",
      "source": [
        " #Hyper-parameter tuning FOR DecisionTree\n",
        "model_params = {\n",
        "    'KNN': {\n",
        "        'model': KNeighborsClassifier(),\n",
        "        'params': {\n",
        "            'n_neighbors': [2,3,4,5,6,7,8,9,10]\n",
        "        }   \n",
        "    }\n",
        "}\n",
        "\n"
      ],
      "metadata": {
        "id": "CWmO8RTC2t5l"
      },
      "id": "CWmO8RTC2t5l",
      "execution_count": 22,
      "outputs": []
    },
    {
      "cell_type": "code",
      "source": [
        " scores = []\n",
        "from sklearn.model_selection import GridSearchCV\n",
        "\n",
        "for model_name, mp in model_params.items():\n",
        "    clf =  GridSearchCV(mp['model'], mp['params'], cv=5, return_train_score=False)\n",
        "    clf.fit(X_train, y_train)\n",
        "    scores.append({\n",
        "        'model': model_name,\n",
        "        'best_score': clf.best_score_,\n",
        "        'best_params': clf.best_params_\n",
        "    })\n",
        "    \n",
        "df = pd.DataFrame(scores,columns=['model','best_score','best_params'])\n",
        "df"
      ],
      "metadata": {
        "colab": {
          "base_uri": "https://localhost:8080/",
          "height": 81
        },
        "id": "WfmIEmu63ruK",
        "outputId": "27412b4b-c295-4763-c318-0bfcf17f796a"
      },
      "id": "WfmIEmu63ruK",
      "execution_count": 23,
      "outputs": [
        {
          "output_type": "execute_result",
          "data": {
            "text/html": [
              "\n",
              "  <div id=\"df-d2dc1644-eb2b-41f7-8e27-4a5ebb251cfa\">\n",
              "    <div class=\"colab-df-container\">\n",
              "      <div>\n",
              "<style scoped>\n",
              "    .dataframe tbody tr th:only-of-type {\n",
              "        vertical-align: middle;\n",
              "    }\n",
              "\n",
              "    .dataframe tbody tr th {\n",
              "        vertical-align: top;\n",
              "    }\n",
              "\n",
              "    .dataframe thead th {\n",
              "        text-align: right;\n",
              "    }\n",
              "</style>\n",
              "<table border=\"1\" class=\"dataframe\">\n",
              "  <thead>\n",
              "    <tr style=\"text-align: right;\">\n",
              "      <th></th>\n",
              "      <th>model</th>\n",
              "      <th>best_score</th>\n",
              "      <th>best_params</th>\n",
              "    </tr>\n",
              "  </thead>\n",
              "  <tbody>\n",
              "    <tr>\n",
              "      <th>0</th>\n",
              "      <td>KNN</td>\n",
              "      <td>0.603976</td>\n",
              "      <td>{'n_neighbors': 9}</td>\n",
              "    </tr>\n",
              "  </tbody>\n",
              "</table>\n",
              "</div>\n",
              "      <button class=\"colab-df-convert\" onclick=\"convertToInteractive('df-d2dc1644-eb2b-41f7-8e27-4a5ebb251cfa')\"\n",
              "              title=\"Convert this dataframe to an interactive table.\"\n",
              "              style=\"display:none;\">\n",
              "        \n",
              "  <svg xmlns=\"http://www.w3.org/2000/svg\" height=\"24px\"viewBox=\"0 0 24 24\"\n",
              "       width=\"24px\">\n",
              "    <path d=\"M0 0h24v24H0V0z\" fill=\"none\"/>\n",
              "    <path d=\"M18.56 5.44l.94 2.06.94-2.06 2.06-.94-2.06-.94-.94-2.06-.94 2.06-2.06.94zm-11 1L8.5 8.5l.94-2.06 2.06-.94-2.06-.94L8.5 2.5l-.94 2.06-2.06.94zm10 10l.94 2.06.94-2.06 2.06-.94-2.06-.94-.94-2.06-.94 2.06-2.06.94z\"/><path d=\"M17.41 7.96l-1.37-1.37c-.4-.4-.92-.59-1.43-.59-.52 0-1.04.2-1.43.59L10.3 9.45l-7.72 7.72c-.78.78-.78 2.05 0 2.83L4 21.41c.39.39.9.59 1.41.59.51 0 1.02-.2 1.41-.59l7.78-7.78 2.81-2.81c.8-.78.8-2.07 0-2.86zM5.41 20L4 18.59l7.72-7.72 1.47 1.35L5.41 20z\"/>\n",
              "  </svg>\n",
              "      </button>\n",
              "      \n",
              "  <style>\n",
              "    .colab-df-container {\n",
              "      display:flex;\n",
              "      flex-wrap:wrap;\n",
              "      gap: 12px;\n",
              "    }\n",
              "\n",
              "    .colab-df-convert {\n",
              "      background-color: #E8F0FE;\n",
              "      border: none;\n",
              "      border-radius: 50%;\n",
              "      cursor: pointer;\n",
              "      display: none;\n",
              "      fill: #1967D2;\n",
              "      height: 32px;\n",
              "      padding: 0 0 0 0;\n",
              "      width: 32px;\n",
              "    }\n",
              "\n",
              "    .colab-df-convert:hover {\n",
              "      background-color: #E2EBFA;\n",
              "      box-shadow: 0px 1px 2px rgba(60, 64, 67, 0.3), 0px 1px 3px 1px rgba(60, 64, 67, 0.15);\n",
              "      fill: #174EA6;\n",
              "    }\n",
              "\n",
              "    [theme=dark] .colab-df-convert {\n",
              "      background-color: #3B4455;\n",
              "      fill: #D2E3FC;\n",
              "    }\n",
              "\n",
              "    [theme=dark] .colab-df-convert:hover {\n",
              "      background-color: #434B5C;\n",
              "      box-shadow: 0px 1px 3px 1px rgba(0, 0, 0, 0.15);\n",
              "      filter: drop-shadow(0px 1px 2px rgba(0, 0, 0, 0.3));\n",
              "      fill: #FFFFFF;\n",
              "    }\n",
              "  </style>\n",
              "\n",
              "      <script>\n",
              "        const buttonEl =\n",
              "          document.querySelector('#df-d2dc1644-eb2b-41f7-8e27-4a5ebb251cfa button.colab-df-convert');\n",
              "        buttonEl.style.display =\n",
              "          google.colab.kernel.accessAllowed ? 'block' : 'none';\n",
              "\n",
              "        async function convertToInteractive(key) {\n",
              "          const element = document.querySelector('#df-d2dc1644-eb2b-41f7-8e27-4a5ebb251cfa');\n",
              "          const dataTable =\n",
              "            await google.colab.kernel.invokeFunction('convertToInteractive',\n",
              "                                                     [key], {});\n",
              "          if (!dataTable) return;\n",
              "\n",
              "          const docLinkHtml = 'Like what you see? Visit the ' +\n",
              "            '<a target=\"_blank\" href=https://colab.research.google.com/notebooks/data_table.ipynb>data table notebook</a>'\n",
              "            + ' to learn more about interactive tables.';\n",
              "          element.innerHTML = '';\n",
              "          dataTable['output_type'] = 'display_data';\n",
              "          await google.colab.output.renderOutput(dataTable, element);\n",
              "          const docLink = document.createElement('div');\n",
              "          docLink.innerHTML = docLinkHtml;\n",
              "          element.appendChild(docLink);\n",
              "        }\n",
              "      </script>\n",
              "    </div>\n",
              "  </div>\n",
              "  "
            ],
            "text/plain": [
              "  model  best_score         best_params\n",
              "0   KNN    0.603976  {'n_neighbors': 9}"
            ]
          },
          "metadata": {},
          "execution_count": 23
        }
      ]
    },
    {
      "cell_type": "code",
      "execution_count": 7,
      "id": "3ec9e089",
      "metadata": {
        "id": "3ec9e089"
      },
      "outputs": [],
      "source": [
        "def clf_train(clf, X_train, y_train):\n",
        "    ''' Fits a classifier to the training data. '''\n",
        "\n",
        "    clf.fit(X_train, y_train)\n",
        "\n",
        "    \n",
        "def clf_predict(clf, features, target):\n",
        "    ''' Makes predictions using a fit classifier based on F1 score. '''\n",
        "\n",
        "    y_pred = clf.predict(features)\n",
        "    \n",
        "    \n",
        "    return f1_score(target, y_pred, pos_label='H'), sum(target == y_pred) / float(len(y_pred))\n",
        "\n",
        "\n",
        "def do_all(clf, X_train, y_train, X_test, y_test):\n",
        "    ''' Train and predict using a classifer based on F1 score. '''\n",
        "    \n",
        "    print (\"Training a {} using a training set size of {}. . .\".format(clf.__class__.__name__, len(X_train)))\n",
        "    \n",
        "    clf_train(clf, X_train, y_train)\n",
        "    \n",
        "    f1, acc = clf_predict(clf, X_train, y_train)\n",
        "    print (f1, acc)\n",
        "    print (\"F1 score and accuracy score for training set: {:.4f} , {:.4f}.\".format(f1 , acc))\n",
        "    \n",
        "    f1, acc = clf_predict(clf, X_test, y_test)\n",
        "\n",
        "    \n",
        "    clf.fit(X_train, y_train)\n",
        "\n",
        "\n",
        "\n",
        "\n",
        "def do_all(clf, X_train, y_train, X_test, y_test):\n",
        "    ''' Train and predict using a classifer based on F1 score. '''\n",
        "    \n",
        "    print (\"Training a {} using a training set size of {}. . .\".format(clf.__class__.__name__, len(X_train)))\n",
        "    \n",
        "    clf_train(clf, X_train, y_train)\n",
        "    \n",
        "    f1, acc = clf_predict(clf, X_train, y_train)\n",
        "    print (f1, acc)\n",
        "    print (\"F1 score and accuracy score for training set: {:.4f} , {:.4f}.\".format(f1 , acc))\n",
        "    \n",
        "    f1, acc = clf_predict(clf, X_test, y_test)\n",
        "    print (\"F1 score and accuracy score for test set: {:.4f} , {:.4f}.\".format(f1 , acc))"
      ]
    },
    {
      "cell_type": "code",
      "execution_count": 24,
      "id": "533e37a6",
      "metadata": {
        "id": "533e37a6"
      },
      "outputs": [],
      "source": [
        "clf_1 = LogisticRegression(random_state = 42)\n",
        "clf_3 = KNeighborsClassifier(n_neighbors=9)\n",
        "clf_4 = DecisionTreeClassifier(random_state=0)\n",
        "\n"
      ]
    },
    {
      "cell_type": "code",
      "source": [
        "from sklearn.model_selection import cross_val_score\n",
        "from sklearn.metrics import accuracy_score\n",
        "# SVM with different kernals \n",
        "svm_1 = SVC(C=10, kernel='linear')\n",
        "svm_1.fit(X_train, y_train)\n",
        "# Predict on Test data\n",
        "preds = svm_1.predict(X_test)\n",
        "# Calculate Model Accuracy\n",
        "acc = accuracy_score(preds, y_test)\n",
        "print(f\"Model Accuracy = {round(acc*100,2)}%\")"
      ],
      "metadata": {
        "id": "ZRKz_zo9uu6c",
        "colab": {
          "base_uri": "https://localhost:8080/"
        },
        "outputId": "bac6a93f-c591-4f90-fcf2-5fcd342671d5"
      },
      "id": "ZRKz_zo9uu6c",
      "execution_count": 26,
      "outputs": [
        {
          "output_type": "stream",
          "name": "stdout",
          "text": [
            "Model Accuracy = 62.0%\n"
          ]
        }
      ]
    },
    {
      "cell_type": "code",
      "source": [
        "# # try poly kernal \n",
        "svm_2 = SVC(C=100, kernel='poly')\n",
        "svm_2.fit(X_train, y_train)\n",
        "# Predict on Test data\n",
        "preds = svm_2.predict(X_test)\n",
        "# Calculate Model Accuracy\n",
        "acc = accuracy_score(preds, y_test)\n",
        "print(f\"Model Accuracy = {round(acc*100,2)}%\")"
      ],
      "metadata": {
        "id": "AqnHFrRtvJS3",
        "colab": {
          "base_uri": "https://localhost:8080/"
        },
        "outputId": "a2b7dd6e-bb25-4b42-e573-fbe28050953a"
      },
      "id": "AqnHFrRtvJS3",
      "execution_count": 25,
      "outputs": [
        {
          "output_type": "stream",
          "name": "stdout",
          "text": [
            "Model Accuracy = 54.0%\n"
          ]
        }
      ]
    },
    {
      "cell_type": "code",
      "source": [
        "# try Radial Basis Function Kernel with different c \n",
        "svm_3 = SVC(C=100, kernel='rbf')\n",
        "svm_3.fit(X_train, y_train)\n",
        "# Predict on Test data\n",
        "preds = svm_3.predict(X_test)\n",
        "# Calculate Model Accuracy\n",
        "acc = accuracy_score(preds, y_test)\n",
        "print(f\"Model Accuracy = {round(acc*100,2)}%\")"
      ],
      "metadata": {
        "id": "RXIJGpGvvTzd",
        "colab": {
          "base_uri": "https://localhost:8080/"
        },
        "outputId": "f5172708-58b3-4188-b8de-e587f0f4716b"
      },
      "id": "RXIJGpGvvTzd",
      "execution_count": 27,
      "outputs": [
        {
          "output_type": "stream",
          "name": "stdout",
          "text": [
            "Model Accuracy = 66.0%\n"
          ]
        }
      ]
    },
    {
      "cell_type": "code",
      "source": [
        "#comparing between SVM models with different kernals \n",
        "d = {'linear': [0.62], 'poly': [0.54], 'rbf': [0.66]}\n",
        "df = pd.DataFrame(data=d)\n",
        "df\n",
        "plt.figure(figsize=(16,9))\n",
        "\n",
        "df.T.plot(kind = 'bar', figsize=(16,9), legend = False);\n",
        "plt.ylabel(r'Accuracy', size = 12);\n",
        "plt.show();"
      ],
      "metadata": {
        "colab": {
          "base_uri": "https://localhost:8080/",
          "height": 573
        },
        "id": "fSCvS8cpF52Z",
        "outputId": "9333cd95-f6b4-4844-8dc8-498de4abc91d"
      },
      "id": "fSCvS8cpF52Z",
      "execution_count": 27,
      "outputs": [
        {
          "output_type": "display_data",
          "data": {
            "text/plain": [
              "<Figure size 1152x648 with 0 Axes>"
            ]
          },
          "metadata": {}
        },
        {
          "output_type": "display_data",
          "data": {
            "image/png": "[encoded data removed]",
            "text/plain": [
              "<Figure size 1152x648 with 1 Axes>"
            ]
          },
          "metadata": {
            "needs_background": "light"
          }
        }
      ]
    },
    {
      "cell_type": "code",
      "source": [
        "do_all(svm_1,X_train, y_train, X_test, y_test)\n",
        "print(\"*\"*40)\n",
        "do_all(svm_2,X_train, y_train, X_test, y_test)\n",
        "print(\"*\"*40)\n",
        "do_all(svm_3,X_train, y_train, X_test, y_test)\n",
        "print(\"*\"*40)"
      ],
      "metadata": {
        "colab": {
          "base_uri": "https://localhost:8080/"
        },
        "id": "bpH3OpmSKkwD",
        "outputId": "f8475067-f08b-48f2-9e8c-e8d1059116cb"
      },
      "id": "bpH3OpmSKkwD",
      "execution_count": 30,
      "outputs": [
        {
          "output_type": "stream",
          "name": "stdout",
          "text": [
            "Training a SVC using a training set size of 6790. . .\n",
            "0.5860818511483337 0.6469808541973491\n",
            "F1 score and accuracy score for training set: 0.5861 , 0.6470.\n",
            "F1 score and accuracy score for test set: 0.5581 , 0.6200.\n",
            "****************************************\n",
            "Training a SVC using a training set size of 6790. . .\n",
            "0.6802181457610312 0.7150220913107511\n",
            "F1 score and accuracy score for training set: 0.6802 , 0.7150.\n",
            "F1 score and accuracy score for test set: 0.4651 , 0.5400.\n",
            "****************************************\n",
            "Training a SVC using a training set size of 6790. . .\n",
            "0.8278567925453654 0.844918998527246\n",
            "F1 score and accuracy score for training set: 0.8279 , 0.8449.\n",
            "F1 score and accuracy score for test set: 0.5405 , 0.6600.\n",
            "****************************************\n"
          ]
        }
      ]
    },
    {
      "cell_type": "code",
      "source": [
        "C_range=list(np.arange(10,60,10))\n",
        "acc_score=[]\n",
        "for c in C_range:\n",
        "    svc = SVC(kernel='rbf', C=c)\n",
        "    scores = cross_val_score(svc, X_train, y_train, cv=10, scoring='accuracy')\n",
        "    acc_score.append(scores.mean())\n",
        "print(acc_score)   \n",
        "# plot the value of C for SVM (x-axis) versus the cross-validated accuracy (y-axis)\n",
        "plt.plot(C_range,acc_score)\n",
        "plt.xlabel('Value of C for SVC ')\n",
        "plt.ylabel('Cross-Validated Accuracy')\n"
      ],
      "metadata": {
        "id": "I0GJjR5uzs-M",
        "colab": {
          "base_uri": "https://localhost:8080/",
          "height": 317
        },
        "outputId": "1eaea9cd-3cdb-49ea-b92e-f336163acd62"
      },
      "id": "I0GJjR5uzs-M",
      "execution_count": 32,
      "outputs": [
        {
          "output_type": "stream",
          "name": "stdout",
          "text": [
            "[0.618556701030928, 0.604418262150221, 0.5964653902798233, 0.590721649484536, 0.5861561119293077]\n"
          ]
        },
        {
          "output_type": "execute_result",
          "data": {
            "text/plain": [
              "Text(0, 0.5, 'Cross-Validated Accuracy')"
            ]
          },
          "metadata": {},
          "execution_count": 32
        },
        {
          "output_type": "display_data",
          "data": {
            "image/png": "[encoded data removed]",
            "text/plain": [
              "<Figure size 432x288 with 1 Axes>"
            ]
          },
          "metadata": {
            "needs_background": "light"
          }
        }
      ]
    },
    {
      "cell_type": "code",
      "source": [
        "#final test  for svm\n",
        "clf_2= SVC(C=10, kernel='rbf')"
      ],
      "metadata": {
        "id": "oAJQcc-7YScL"
      },
      "id": "oAJQcc-7YScL",
      "execution_count": 33,
      "outputs": []
    },
    {
      "cell_type": "code",
      "source": [
        " #Hyper-parameter tuning FOR Random Forest\n",
        "model_params = {\n",
        "    'random_forest': {\n",
        "        'model': RandomForestClassifier(),\n",
        "        'params' : {\n",
        "            'n_estimators': [100,500,40,700,800]\n",
        "        }\n",
        "    },}\n",
        "\n",
        " scores = []\n",
        "\n",
        "for model_name, mp in model_params.items():\n",
        "    clf =  GridSearchCV(mp['model'], mp['params'], cv=5, return_train_score=False)\n",
        "    clf.fit(X_train, y_train)\n",
        "    scores.append({\n",
        "        'model': model_name,\n",
        "        'best_score': clf.best_score_,\n",
        "        'best_params': clf.best_params_\n",
        "    })\n",
        "    \n",
        "df = pd.DataFrame(scores,columns=['model','best_score','best_params'])\n",
        "df"
      ],
      "metadata": {
        "id": "ZGkku5f9x0dO",
        "colab": {
          "base_uri": "https://localhost:8080/",
          "height": 81
        },
        "outputId": "691db5e0-d7c7-4f06-b041-e740a49927ea"
      },
      "id": "ZGkku5f9x0dO",
      "execution_count": 29,
      "outputs": [
        {
          "output_type": "execute_result",
          "data": {
            "text/html": [
              "\n",
              "  <div id=\"df-aa7f68c6-1de5-4af3-868c-f050609dc34e\">\n",
              "    <div class=\"colab-df-container\">\n",
              "      <div>\n",
              "<style scoped>\n",
              "    .dataframe tbody tr th:only-of-type {\n",
              "        vertical-align: middle;\n",
              "    }\n",
              "\n",
              "    .dataframe tbody tr th {\n",
              "        vertical-align: top;\n",
              "    }\n",
              "\n",
              "    .dataframe thead th {\n",
              "        text-align: right;\n",
              "    }\n",
              "</style>\n",
              "<table border=\"1\" class=\"dataframe\">\n",
              "  <thead>\n",
              "    <tr style=\"text-align: right;\">\n",
              "      <th></th>\n",
              "      <th>model</th>\n",
              "      <th>best_score</th>\n",
              "      <th>best_params</th>\n",
              "    </tr>\n",
              "  </thead>\n",
              "  <tbody>\n",
              "    <tr>\n",
              "      <th>0</th>\n",
              "      <td>random_forest</td>\n",
              "      <td>0.62592</td>\n",
              "      <td>{'n_estimators': 800}</td>\n",
              "    </tr>\n",
              "  </tbody>\n",
              "</table>\n",
              "</div>\n",
              "      <button class=\"colab-df-convert\" onclick=\"convertToInteractive('df-aa7f68c6-1de5-4af3-868c-f050609dc34e')\"\n",
              "              title=\"Convert this dataframe to an interactive table.\"\n",
              "              style=\"display:none;\">\n",
              "        \n",
              "  <svg xmlns=\"http://www.w3.org/2000/svg\" height=\"24px\"viewBox=\"0 0 24 24\"\n",
              "       width=\"24px\">\n",
              "    <path d=\"M0 0h24v24H0V0z\" fill=\"none\"/>\n",
              "    <path d=\"M18.56 5.44l.94 2.06.94-2.06 2.06-.94-2.06-.94-.94-2.06-.94 2.06-2.06.94zm-11 1L8.5 8.5l.94-2.06 2.06-.94-2.06-.94L8.5 2.5l-.94 2.06-2.06.94zm10 10l.94 2.06.94-2.06 2.06-.94-2.06-.94-.94-2.06-.94 2.06-2.06.94z\"/><path d=\"M17.41 7.96l-1.37-1.37c-.4-.4-.92-.59-1.43-.59-.52 0-1.04.2-1.43.59L10.3 9.45l-7.72 7.72c-.78.78-.78 2.05 0 2.83L4 21.41c.39.39.9.59 1.41.59.51 0 1.02-.2 1.41-.59l7.78-7.78 2.81-2.81c.8-.78.8-2.07 0-2.86zM5.41 20L4 18.59l7.72-7.72 1.47 1.35L5.41 20z\"/>\n",
              "  </svg>\n",
              "      </button>\n",
              "      \n",
              "  <style>\n",
              "    .colab-df-container {\n",
              "      display:flex;\n",
              "      flex-wrap:wrap;\n",
              "      gap: 12px;\n",
              "    }\n",
              "\n",
              "    .colab-df-convert {\n",
              "      background-color: #E8F0FE;\n",
              "      border: none;\n",
              "      border-radius: 50%;\n",
              "      cursor: pointer;\n",
              "      display: none;\n",
              "      fill: #1967D2;\n",
              "      height: 32px;\n",
              "      padding: 0 0 0 0;\n",
              "      width: 32px;\n",
              "    }\n",
              "\n",
              "    .colab-df-convert:hover {\n",
              "      background-color: #E2EBFA;\n",
              "      box-shadow: 0px 1px 2px rgba(60, 64, 67, 0.3), 0px 1px 3px 1px rgba(60, 64, 67, 0.15);\n",
              "      fill: #174EA6;\n",
              "    }\n",
              "\n",
              "    [theme=dark] .colab-df-convert {\n",
              "      background-color: #3B4455;\n",
              "      fill: #D2E3FC;\n",
              "    }\n",
              "\n",
              "    [theme=dark] .colab-df-convert:hover {\n",
              "      background-color: #434B5C;\n",
              "      box-shadow: 0px 1px 3px 1px rgba(0, 0, 0, 0.15);\n",
              "      filter: drop-shadow(0px 1px 2px rgba(0, 0, 0, 0.3));\n",
              "      fill: #FFFFFF;\n",
              "    }\n",
              "  </style>\n",
              "\n",
              "      <script>\n",
              "        const buttonEl =\n",
              "          document.querySelector('#df-aa7f68c6-1de5-4af3-868c-f050609dc34e button.colab-df-convert');\n",
              "        buttonEl.style.display =\n",
              "          google.colab.kernel.accessAllowed ? 'block' : 'none';\n",
              "\n",
              "        async function convertToInteractive(key) {\n",
              "          const element = document.querySelector('#df-aa7f68c6-1de5-4af3-868c-f050609dc34e');\n",
              "          const dataTable =\n",
              "            await google.colab.kernel.invokeFunction('convertToInteractive',\n",
              "                                                     [key], {});\n",
              "          if (!dataTable) return;\n",
              "\n",
              "          const docLinkHtml = 'Like what you see? Visit the ' +\n",
              "            '<a target=\"_blank\" href=https://colab.research.google.com/notebooks/data_table.ipynb>data table notebook</a>'\n",
              "            + ' to learn more about interactive tables.';\n",
              "          element.innerHTML = '';\n",
              "          dataTable['output_type'] = 'display_data';\n",
              "          await google.colab.output.renderOutput(dataTable, element);\n",
              "          const docLink = document.createElement('div');\n",
              "          docLink.innerHTML = docLinkHtml;\n",
              "          element.appendChild(docLink);\n",
              "        }\n",
              "      </script>\n",
              "    </div>\n",
              "  </div>\n",
              "  "
            ],
            "text/plain": [
              "           model  best_score            best_params\n",
              "0  random_forest     0.62592  {'n_estimators': 800}"
            ]
          },
          "metadata": {},
          "execution_count": 29
        }
      ]
    },
    {
      "cell_type": "code",
      "source": [
        "# the RANDOM FOREST \n",
        "from sklearn.ensemble import RandomForestClassifier\n",
        "clf_5 = RandomForestClassifier(criterion='gini', \n",
        "                             n_estimators=500,\n",
        "                             min_samples_split=10,\n",
        "                             min_samples_leaf=1,\n",
        "                             max_features='auto',\n",
        "                             oob_score=True,\n",
        "                             random_state=1,\n",
        "                             n_jobs=-1)\n"
      ],
      "metadata": {
        "id": "T15GVuzm4hpX"
      },
      "id": "T15GVuzm4hpX",
      "execution_count": 30,
      "outputs": []
    },
    {
      "cell_type": "code",
      "execution_count": 34,
      "id": "a4d50fb2",
      "metadata": {
        "id": "a4d50fb2",
        "colab": {
          "base_uri": "https://localhost:8080/"
        },
        "outputId": "8ff631b2-99b4-4227-d342-4ebe42967dd7"
      },
      "outputs": [
        {
          "output_type": "stream",
          "name": "stdout",
          "text": [
            "Training a LogisticRegression using a training set size of 6790. . .\n",
            "0.5939352871421312 0.6469808541973491\n",
            "F1 score and accuracy score for training set: 0.5939 , 0.6470.\n",
            "F1 score and accuracy score for test set: 0.5532 , 0.5800.\n",
            "****************************************\n",
            "Training a SVC using a training set size of 6790. . .\n",
            "0.7154769846564376 0.7487481590574374\n",
            "F1 score and accuracy score for training set: 0.7155 , 0.7487.\n",
            "F1 score and accuracy score for test set: 0.5581 , 0.6200.\n",
            "****************************************\n",
            "Training a KNeighborsClassifier using a training set size of 6790. . .\n",
            "0.6528911848025328 0.6932253313696612\n",
            "F1 score and accuracy score for training set: 0.6529 , 0.6932.\n",
            "F1 score and accuracy score for test set: 0.4783 , 0.5200.\n",
            "****************************************\n",
            "Training a DecisionTreeClassifier using a training set size of 6790. . .\n",
            "0.9773929773929775 0.9792341678939617\n",
            "F1 score and accuracy score for training set: 0.9774 , 0.9792.\n",
            "F1 score and accuracy score for test set: 0.5778 , 0.6200.\n",
            "****************************************\n",
            "Training a RandomForestClassifier using a training set size of 6790. . .\n"
          ]
        },
        {
          "output_type": "stream",
          "name": "stderr",
          "text": [
            "/usr/local/lib/python3.7/dist-packages/sklearn/base.py:446: UserWarning: X does not have valid feature names, but RandomForestClassifier was fitted with feature names\n",
            "  \"X does not have valid feature names, but\"\n"
          ]
        },
        {
          "output_type": "stream",
          "name": "stdout",
          "text": [
            "0.9061889250814332 0.9151693667157584\n",
            "F1 score and accuracy score for training set: 0.9062 , 0.9152.\n",
            "F1 score and accuracy score for test set: 0.5128 , 0.6200.\n",
            "****************************************\n"
          ]
        }
      ],
      "source": [
        "do_all(clf_1,X_train, y_train, X_test, y_test)\n",
        "print(\"*\"*40)\n",
        "do_all(clf_2, X_train, y_train, X_test, y_test)\n",
        "print(\"*\"*40)\n",
        "do_all(clf_3, X_train, y_train, X_test, y_test)\n",
        "print(\"*\"*40)\n",
        "do_all(clf_4, X_train, y_train, X_test, y_test)\n",
        "print(\"*\"*40)\n",
        "do_all(clf_5, X_train, y_train, X_test, y_test)\n",
        "print(\"*\"*40)"
      ]
    },
    {
      "cell_type": "code",
      "execution_count": null,
      "id": "8890ee83",
      "metadata": {
        "id": "8890ee83",
        "colab": {
          "base_uri": "https://localhost:8080/",
          "height": 81
        },
        "outputId": "a502e9a5-d566-440f-bc5c-9c98f8f3fde2"
      },
      "outputs": [
        {
          "output_type": "execute_result",
          "data": {
            "text/html": [
              "\n",
              "  <div id=\"df-3899edac-d211-4293-b707-822e171c9745\">\n",
              "    <div class=\"colab-df-container\">\n",
              "      <div>\n",
              "<style scoped>\n",
              "    .dataframe tbody tr th:only-of-type {\n",
              "        vertical-align: middle;\n",
              "    }\n",
              "\n",
              "    .dataframe tbody tr th {\n",
              "        vertical-align: top;\n",
              "    }\n",
              "\n",
              "    .dataframe thead th {\n",
              "        text-align: right;\n",
              "    }\n",
              "</style>\n",
              "<table border=\"1\" class=\"dataframe\">\n",
              "  <thead>\n",
              "    <tr style=\"text-align: right;\">\n",
              "      <th></th>\n",
              "      <th>LR</th>\n",
              "      <th>SVM</th>\n",
              "      <th>KNN</th>\n",
              "      <th>Decision Tree</th>\n",
              "      <th>RandomForest</th>\n",
              "    </tr>\n",
              "  </thead>\n",
              "  <tbody>\n",
              "    <tr>\n",
              "      <th>0</th>\n",
              "      <td>0.58</td>\n",
              "      <td>0.66</td>\n",
              "      <td>0.52</td>\n",
              "      <td>0.62</td>\n",
              "      <td>0.62</td>\n",
              "    </tr>\n",
              "  </tbody>\n",
              "</table>\n",
              "</div>\n",
              "      <button class=\"colab-df-convert\" onclick=\"convertToInteractive('df-3899edac-d211-4293-b707-822e171c9745')\"\n",
              "              title=\"Convert this dataframe to an interactive table.\"\n",
              "              style=\"display:none;\">\n",
              "        \n",
              "  <svg xmlns=\"http://www.w3.org/2000/svg\" height=\"24px\"viewBox=\"0 0 24 24\"\n",
              "       width=\"24px\">\n",
              "    <path d=\"M0 0h24v24H0V0z\" fill=\"none\"/>\n",
              "    <path d=\"M18.56 5.44l.94 2.06.94-2.06 2.06-.94-2.06-.94-.94-2.06-.94 2.06-2.06.94zm-11 1L8.5 8.5l.94-2.06 2.06-.94-2.06-.94L8.5 2.5l-.94 2.06-2.06.94zm10 10l.94 2.06.94-2.06 2.06-.94-2.06-.94-.94-2.06-.94 2.06-2.06.94z\"/><path d=\"M17.41 7.96l-1.37-1.37c-.4-.4-.92-.59-1.43-.59-.52 0-1.04.2-1.43.59L10.3 9.45l-7.72 7.72c-.78.78-.78 2.05 0 2.83L4 21.41c.39.39.9.59 1.41.59.51 0 1.02-.2 1.41-.59l7.78-7.78 2.81-2.81c.8-.78.8-2.07 0-2.86zM5.41 20L4 18.59l7.72-7.72 1.47 1.35L5.41 20z\"/>\n",
              "  </svg>\n",
              "      </button>\n",
              "      \n",
              "  <style>\n",
              "    .colab-df-container {\n",
              "      display:flex;\n",
              "      flex-wrap:wrap;\n",
              "      gap: 12px;\n",
              "    }\n",
              "\n",
              "    .colab-df-convert {\n",
              "      background-color: #E8F0FE;\n",
              "      border: none;\n",
              "      border-radius: 50%;\n",
              "      cursor: pointer;\n",
              "      display: none;\n",
              "      fill: #1967D2;\n",
              "      height: 32px;\n",
              "      padding: 0 0 0 0;\n",
              "      width: 32px;\n",
              "    }\n",
              "\n",
              "    .colab-df-convert:hover {\n",
              "      background-color: #E2EBFA;\n",
              "      box-shadow: 0px 1px 2px rgba(60, 64, 67, 0.3), 0px 1px 3px 1px rgba(60, 64, 67, 0.15);\n",
              "      fill: #174EA6;\n",
              "    }\n",
              "\n",
              "    [theme=dark] .colab-df-convert {\n",
              "      background-color: #3B4455;\n",
              "      fill: #D2E3FC;\n",
              "    }\n",
              "\n",
              "    [theme=dark] .colab-df-convert:hover {\n",
              "      background-color: #434B5C;\n",
              "      box-shadow: 0px 1px 3px 1px rgba(0, 0, 0, 0.15);\n",
              "      filter: drop-shadow(0px 1px 2px rgba(0, 0, 0, 0.3));\n",
              "      fill: #FFFFFF;\n",
              "    }\n",
              "  </style>\n",
              "\n",
              "      <script>\n",
              "        const buttonEl =\n",
              "          document.querySelector('#df-3899edac-d211-4293-b707-822e171c9745 button.colab-df-convert');\n",
              "        buttonEl.style.display =\n",
              "          google.colab.kernel.accessAllowed ? 'block' : 'none';\n",
              "\n",
              "        async function convertToInteractive(key) {\n",
              "          const element = document.querySelector('#df-3899edac-d211-4293-b707-822e171c9745');\n",
              "          const dataTable =\n",
              "            await google.colab.kernel.invokeFunction('convertToInteractive',\n",
              "                                                     [key], {});\n",
              "          if (!dataTable) return;\n",
              "\n",
              "          const docLinkHtml = 'Like what you see? Visit the ' +\n",
              "            '<a target=\"_blank\" href=https://colab.research.google.com/notebooks/data_table.ipynb>data table notebook</a>'\n",
              "            + ' to learn more about interactive tables.';\n",
              "          element.innerHTML = '';\n",
              "          dataTable['output_type'] = 'display_data';\n",
              "          await google.colab.output.renderOutput(dataTable, element);\n",
              "          const docLink = document.createElement('div');\n",
              "          docLink.innerHTML = docLinkHtml;\n",
              "          element.appendChild(docLink);\n",
              "        }\n",
              "      </script>\n",
              "    </div>\n",
              "  </div>\n",
              "  "
            ],
            "text/plain": [
              "     LR   SVM   KNN  Decision Tree  RandomForest\n",
              "0  0.58  0.66  0.52           0.62          0.62"
            ]
          },
          "metadata": {},
          "execution_count": 71
        }
      ],
      "source": [
        "d = {'LR': [0.58], 'SVM': [0.66], 'KNN': [0.52], 'Decision Tree': [0.62], 'RandomForest': [0.62]}\n",
        "df = pd.DataFrame(data=d)\n",
        "df"
      ]
    },
    {
      "cell_type": "code",
      "execution_count": null,
      "id": "90e00e7f",
      "metadata": {
        "id": "90e00e7f",
        "colab": {
          "base_uri": "https://localhost:8080/",
          "height": 616
        },
        "outputId": "108fbe4f-4046-4223-c242-76b514037050"
      },
      "outputs": [
        {
          "output_type": "display_data",
          "data": {
            "text/plain": [
              "<Figure size 1152x648 with 0 Axes>"
            ]
          },
          "metadata": {}
        },
        {
          "output_type": "display_data",
          "data": {
            "image/png": "[encoded data removed]",
            "text/plain": [
              "<Figure size 1152x648 with 1 Axes>"
            ]
          },
          "metadata": {
            "needs_background": "light"
          }
        }
      ],
      "source": [
        "plt.figure(figsize=(16,9))\n",
        "\n",
        "df.T.plot(kind = 'bar', figsize=(16,9), legend = False);\n",
        "plt.ylabel(r'Accuracy', size = 12);\n",
        "plt.xticks(rotation=75);\n",
        "plt.show();"
      ]
    }
  ],
  "metadata": {
    "kernelspec": {
      "display_name": "Python 3",
      "language": "python",
      "name": "python3"
    },
    "language_info": {
      "codemirror_mode": {
        "name": "ipython",
        "version": 3
      },
      "file_extension": ".py",
      "mimetype": "text/x-python",
      "name": "python",
      "nbconvert_exporter": "python",
      "pygments_lexer": "ipython3",
      "version": "3.8.8"
    },
    "colab": {
      "name": "Models Engine.ipynb",
      "provenance": [],
      "collapsed_sections": []
    }
  },
  "nbformat": 4,
  "nbformat_minor": 5
}